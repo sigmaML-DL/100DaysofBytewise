{
 "cells": [
  {
   "cell_type": "markdown",
   "metadata": {},
   "source": [
    "#### Adult Income Dataset"
   ]
  },
  {
   "cell_type": "markdown",
   "metadata": {},
   "source": [
    "#### Cross-Validation to Random Forest Classifier"
   ]
  },
  {
   "cell_type": "code",
   "execution_count": null,
   "metadata": {},
   "outputs": [],
   "source": [
    "import pandas as pd\n",
    "import numpy as np\n",
    "from sklearn.ensemble import RandomForestClassifier\n",
    "from sklearn.model_selection import cross_val_score\n",
    "\n",
    "adult = pd.read_csv('C:/Users/abdul/OneDrive/Desktop/ByteWise_ML/Day_15/adult.csv')\n",
    "\n",
    "adult['income'] = adult['income'].map({'<=50K': 0, '>50K': 1})\n",
    "adult['workclass'] = adult['workclass'].replace(' ?', adult['workclass'].mode()[0])\n",
    "adult['occupation'] = adult['occupation'].replace(' ?', adult['occupation'].mode()[0])\n",
    "adult['native-country'] = adult['native-country'].replace(' ?', adult['native-country'].mode()[0])\n",
    "\n",
    "categorical_cols = adult.select_dtypes(include=['object']).columns\n",
    "adult = pd.get_dummies(adult, columns=categorical_cols, drop_first=True)\n",
    "\n",
    "X = adult.drop(columns=['income'])\n",
    "y = adult['income']\n",
    "\n",
    "model = RandomForestClassifier(random_state=42)\n",
    "cross_val_scores = cross_val_score(model, X, y, cv=5, scoring='accuracy')\n",
    "\n",
    "print(f\"Cross-Validation Accuracy Scores: {cross_val_scores}\")\n",
    "print(f\"Mean Accuracy: {np.mean(cross_val_scores):.4f}\")\n",
    "print(f\"Standard Deviation: {np.std(cross_val_scores):.4f}\")"
   ]
  },
  {
   "cell_type": "markdown",
   "metadata": {},
   "source": [
    "#### Overfitting and Underfitting in Gradient Boosting Machines"
   ]
  },
  {
   "cell_type": "code",
   "execution_count": 10,
   "metadata": {},
   "outputs": [
    {
     "name": "stdout",
     "output_type": "stream",
     "text": [
      "n_estimators=50, learning_rate=0.01, Training Accuracy: 0.8036, Validation Accuracy: 0.8108\n",
      "n_estimators=50, learning_rate=0.1, Training Accuracy: 0.8609, Validation Accuracy: 0.8663\n",
      "n_estimators=50, learning_rate=0.2, Training Accuracy: 0.8686, Validation Accuracy: 0.8735\n",
      "n_estimators=100, learning_rate=0.01, Training Accuracy: 0.8443, Validation Accuracy: 0.8511\n",
      "n_estimators=100, learning_rate=0.1, Training Accuracy: 0.8680, Validation Accuracy: 0.8741\n",
      "n_estimators=100, learning_rate=0.2, Training Accuracy: 0.8752, Validation Accuracy: 0.8777\n",
      "n_estimators=200, learning_rate=0.01, Training Accuracy: 0.8499, Validation Accuracy: 0.8547\n",
      "n_estimators=200, learning_rate=0.1, Training Accuracy: 0.8748, Validation Accuracy: 0.8770\n",
      "n_estimators=200, learning_rate=0.2, Training Accuracy: 0.8821, Validation Accuracy: 0.8781\n"
     ]
    }
   ],
   "source": [
    "import pandas as pd\n",
    "from sklearn.model_selection import train_test_split\n",
    "from sklearn.preprocessing import StandardScaler\n",
    "from sklearn.ensemble import GradientBoostingClassifier\n",
    "from sklearn.metrics import accuracy_score\n",
    "\n",
    "adult = pd.read_csv('C:/Users/abdul/OneDrive/Desktop/ByteWise_ML/Day_15/adult.csv')\n",
    "adult['income'] = adult['income'].map({'<=50K': 0, '>50K': 1})\n",
    "adult['workclass'] = adult['workclass'].replace(' ?', adult['workclass'].mode()[0])\n",
    "adult['occupation'] = adult['occupation'].replace(' ?', adult['occupation'].mode()[0])\n",
    "adult['native-country'] = adult['native-country'].replace(' ?', adult['native-country'].mode()[0])\n",
    "\n",
    "X = adult.drop(columns=['income'])\n",
    "y = adult['income']\n",
    "\n",
    "categorical_cols = X.select_dtypes(include=['object']).columns\n",
    "numerical_cols = X.select_dtypes(include=['int64', 'float64']).columns\n",
    "\n",
    "X = pd.get_dummies(X, columns=categorical_cols)\n",
    "scaler = StandardScaler()\n",
    "X[numerical_cols] = scaler.fit_transform(X[numerical_cols])\n",
    "\n",
    "X_train, X_val, y_train, y_val = train_test_split(X, y, test_size=0.2, random_state=42)\n",
    "\n",
    "for n_estimators in [50, 100, 200]:\n",
    "    for learning_rate in [0.01, 0.1, 0.2]:\n",
    "        model = GradientBoostingClassifier(n_estimators=n_estimators, learning_rate=learning_rate, random_state=42)\n",
    "        model.fit(X_train, y_train)\n",
    "        y_train_pred = model.predict(X_train)\n",
    "        y_val_pred = model.predict(X_val)\n",
    "        train_accuracy = accuracy_score(y_train, y_train_pred)\n",
    "        val_accuracy = accuracy_score(y_val, y_val_pred)\n",
    "        print(f\"n_estimators={n_estimators}, learning_rate={learning_rate}, Training Accuracy: {train_accuracy:.4f}, Validation Accuracy: {val_accuracy:.4f}\")\n"
   ]
  },
  {
   "cell_type": "markdown",
   "metadata": {},
   "source": [
    "#### Precision, Recall, and F1-Score for Random Forests "
   ]
  },
  {
   "cell_type": "code",
   "execution_count": 9,
   "metadata": {},
   "outputs": [
    {
     "name": "stdout",
     "output_type": "stream",
     "text": [
      "F1 : 0.6793\n",
      "Precision: 0.7297\n",
      "Recall: 0.6354\n",
      "Accuracy: 0.8594\n",
      "ROC Score : 0.7817\n"
     ]
    }
   ],
   "source": [
    "import pandas as pd\n",
    "from sklearn.model_selection import train_test_split\n",
    "from sklearn.preprocessing import StandardScaler\n",
    "from sklearn.ensemble import RandomForestClassifier\n",
    "from sklearn.metrics import accuracy_score,f1_score,recall_score,precision_score,roc_auc_score\n",
    "\n",
    "adult = pd.read_csv('C:/Users/abdul/OneDrive/Desktop/ByteWise_ML/Day_15/adult.csv')\n",
    "adult['income'] = adult['income'].map({'<=50K': 0, '>50K': 1})\n",
    "adult['workclass'] = adult['workclass'].replace(' ?', adult['workclass'].mode()[0])\n",
    "adult['occupation'] = adult['occupation'].replace(' ?', adult['occupation'].mode()[0])\n",
    "adult['native-country'] = adult['native-country'].replace(' ?', adult['native-country'].mode()[0])\n",
    "\n",
    "categorical_cols = adult.select_dtypes(include=['object']).columns\n",
    "adult = pd.get_dummies(adult, columns=categorical_cols, drop_first=True)\n",
    "\n",
    "X = adult.drop(columns=['income'])\n",
    "y = adult['income']\n",
    "\n",
    "categorical_cols = X.select_dtypes(include=['object']).columns\n",
    "numerical_cols = X.select_dtypes(include=['int64', 'float64']).columns\n",
    "\n",
    "X = pd.get_dummies(X, columns=categorical_cols)\n",
    "scaler = StandardScaler()\n",
    "X[numerical_cols] = scaler.fit_transform(X[numerical_cols])\n",
    "\n",
    "X_train, X_val, y_train, y_val = train_test_split(X, y, test_size=0.2, random_state=42)\n",
    "\n",
    "model = RandomForestClassifier(random_state=42)\n",
    "model.fit(X_train,y_train)\n",
    "\n",
    "y_pred = model.predict(X_val)\n",
    "\n",
    "accuracy = accuracy_score(y_val, y_pred)\n",
    "precision= precision_score(y_val, y_pred)\n",
    "f1 = f1_score(y_val, y_pred)\n",
    "recall = recall_score(y_val, y_pred)\n",
    "roc = roc_auc_score(y_val,y_pred)\n",
    "\n",
    "print(f\"F1 : {f1:.4f}\")\n",
    "print(f\"Precision: {precision:.4f}\")\n",
    "print(f\"Recall: {recall:.4f}\")\n",
    "print(f\"Accuracy: {accuracy:.4f}\")\n",
    "print(f\"ROC Score : {roc:.4f}\")"
   ]
  },
  {
   "cell_type": "markdown",
   "metadata": {},
   "source": [
    "####  ROC Curve and AUC for Gradient Boosting Classifier"
   ]
  },
  {
   "cell_type": "code",
   "execution_count": null,
   "metadata": {},
   "outputs": [],
   "source": [
    "import pandas as pd\n",
    "import  matplotlib.pyplot as plt \n",
    "from sklearn.model_selection import train_test_split\n",
    "from sklearn.preprocessing import StandardScaler\n",
    "from sklearn.ensemble import GradientBoostingClassifier\n",
    "from sklearn.metrics import accuracy_score,roc_auc_score,roc_curve\n",
    "\n",
    "adult = pd.read_csv('C:/Users/abdul/OneDrive/Desktop/ByteWise_ML/Day_15/adult.csv')\n",
    "adult['income'] = adult['income'].map({'<=50K': 0, '>50K': 1})\n",
    "adult['workclass'] = adult['workclass'].replace(' ?', adult['workclass'].mode()[0])\n",
    "adult['occupation'] = adult['occupation'].replace(' ?', adult['occupation'].mode()[0])\n",
    "adult['native-country'] = adult['native-country'].replace(' ?', adult['native-country'].mode()[0])\n",
    "\n",
    "X = adult.drop(columns=['income'])\n",
    "y = adult['income']\n",
    "\n",
    "categorical_cols = X.select_dtypes(include=['object']).columns\n",
    "numerical_cols = X.select_dtypes(include=['int64', 'float64']).columns\n",
    "\n",
    "X = pd.get_dummies(X, columns=categorical_cols)\n",
    "scaler = StandardScaler()\n",
    "X[numerical_cols] = scaler.fit_transform(X[numerical_cols])\n",
    "\n",
    "X_train, X_val, y_train, y_val = train_test_split(X, y, test_size=0.2, random_state=42)\n",
    "\n",
    "model = GradientBoostingClassifier(random_state=42)\n",
    "model.fit(X_train, y_train)\n",
    "\n",
    "y_pred = model.predict(X_val)\n",
    "y_proba = model.predict_proba(X_val)[:,1]\n",
    "\n",
    "roc = roc_auc_score(y_val, y_pred)\n",
    "fpr, tpr, _ = roc_curve(y_val, y_proba, pos_label='Yes')\n",
    "\n",
    "print(f\"ROC Score  : {roc:.4f}\")\n",
    "\n",
    "plt.figure()\n",
    "plt.plot(fpr, tpr, label=f'ROC curve (area = {roc:.2f})')\n",
    "plt.plot([0, 1], [0, 1], 'k--')\n",
    "plt.xlim([0.0, 1.0])\n",
    "plt.ylim([0.0, 1.05])\n",
    "plt.title('Receiver Operating Characteristic')\n",
    "plt.show()\n"
   ]
  },
  {
   "cell_type": "markdown",
   "metadata": {},
   "source": [
    "#### \tModel Performance Comparison with Different Metrics"
   ]
  },
  {
   "cell_type": "code",
   "execution_count": 13,
   "metadata": {},
   "outputs": [
    {
     "name": "stdout",
     "output_type": "stream",
     "text": [
      "Cross-Validation Accuracy Scores: 4.3383767926070105\n",
      "Mean Accuracy: 0.8677\n",
      "Standard Deviation: 0.0022\n"
     ]
    }
   ],
   "source": [
    "# Cross validation of Gradient Boosting Machines \n",
    "import pandas as pd\n",
    "import  matplotlib.pyplot as plt \n",
    "from sklearn.model_selection import train_test_split\n",
    "from sklearn.preprocessing import StandardScaler\n",
    "from sklearn.ensemble import GradientBoostingClassifier\n",
    "from sklearn.metrics import accuracy_score,roc_auc_score,roc_curve\n",
    "import numpy as np\n",
    "from sklearn.model_selection import cross_val_score\n",
    "\n",
    "adult = pd.read_csv('C:/Users/abdul/OneDrive/Desktop/ByteWise_ML/Day_15/adult.csv')\n",
    "adult['income'] = adult['income'].map({'<=50K': 0, '>50K': 1})\n",
    "adult['workclass'] = adult['workclass'].replace(' ?', adult['workclass'].mode()[0])\n",
    "adult['occupation'] = adult['occupation'].replace(' ?', adult['occupation'].mode()[0])\n",
    "adult['native-country'] = adult['native-country'].replace(' ?', adult['native-country'].mode()[0])\n",
    "\n",
    "X = adult.drop(columns=['income'])\n",
    "y = adult['income']\n",
    "\n",
    "categorical_cols = X.select_dtypes(include=['object']).columns\n",
    "numerical_cols = X.select_dtypes(include=['int64', 'float64']).columns\n",
    "\n",
    "X = pd.get_dummies(X, columns=categorical_cols)\n",
    "scaler = StandardScaler()\n",
    "X[numerical_cols] = scaler.fit_transform(X[numerical_cols])\n",
    "\n",
    "X_train, X_val, y_train, y_val = train_test_split(X, y, test_size=0.2, random_state=42)\n",
    "\n",
    "model = GradientBoostingClassifier(random_state=42)\n",
    "model.fit(X_train, y_train)\n",
    "\n",
    "y_pred = model.predict(X_val)\n",
    "y_proba = model.predict_proba(X_val)[:,1]\n",
    "\n",
    "cross_val_scores = cross_val_score(model, X, y, cv=5, scoring='accuracy')\n",
    "\n",
    "print(f\"Cross-Validation Accuracy Scores: {cross_val_scores.sum()}\")\n",
    "print(f\"Mean Accuracy: {np.mean(cross_val_scores):.4f}\")\n",
    "print(f\"Standard Deviation: {np.std(cross_val_scores):.4f}\")"
   ]
  },
  {
   "cell_type": "code",
   "execution_count": 12,
   "metadata": {},
   "outputs": [
    {
     "name": "stdout",
     "output_type": "stream",
     "text": [
      "Cross-Validation Accuracy Scores: 4.269993347137886\n",
      "Mean Accuracy: 0.8540\n",
      "Standard Deviation: 0.0017\n"
     ]
    }
   ],
   "source": [
    "# Cross Validation of Random Forest Classifier \n",
    "import pandas as pd\n",
    "import numpy as np\n",
    "from sklearn.ensemble import RandomForestClassifier\n",
    "from sklearn.model_selection import cross_val_score\n",
    "\n",
    "adult = pd.read_csv('C:/Users/abdul/OneDrive/Desktop/ByteWise_ML/Day_15/adult.csv')\n",
    "\n",
    "adult['income'] = adult['income'].map({'<=50K': 0, '>50K': 1})\n",
    "adult['workclass'] = adult['workclass'].replace(' ?', adult['workclass'].mode()[0])\n",
    "adult['occupation'] = adult['occupation'].replace(' ?', adult['occupation'].mode()[0])\n",
    "adult['native-country'] = adult['native-country'].replace(' ?', adult['native-country'].mode()[0])\n",
    "\n",
    "categorical_cols = adult.select_dtypes(include=['object']).columns\n",
    "adult = pd.get_dummies(adult, columns=categorical_cols, drop_first=True)\n",
    "\n",
    "X = adult.drop(columns=['income'])\n",
    "y = adult['income']\n",
    "\n",
    "model = RandomForestClassifier(random_state=42)\n",
    "cross_val_scores = cross_val_score(model, X, y, cv=5, scoring='accuracy')\n",
    "\n",
    "print(f\"Cross-Validation Accuracy Scores: {cross_val_scores.sum()}\")\n",
    "print(f\"Mean Accuracy: {np.mean(cross_val_scores):.4f}\")\n",
    "print(f\"Standard Deviation: {np.std(cross_val_scores):.4f}\")"
   ]
  },
  {
   "cell_type": "markdown",
   "metadata": {},
   "source": [
    "#### The Cross validation Score is higher for Gradient Boosting Machines "
   ]
  }
 ],
 "metadata": {
  "kernelspec": {
   "display_name": "Python 3",
   "language": "python",
   "name": "python3"
  },
  "language_info": {
   "codemirror_mode": {
    "name": "ipython",
    "version": 3
   },
   "file_extension": ".py",
   "mimetype": "text/x-python",
   "name": "python",
   "nbconvert_exporter": "python",
   "pygments_lexer": "ipython3",
   "version": "3.11.9"
  }
 },
 "nbformat": 4,
 "nbformat_minor": 2
}
